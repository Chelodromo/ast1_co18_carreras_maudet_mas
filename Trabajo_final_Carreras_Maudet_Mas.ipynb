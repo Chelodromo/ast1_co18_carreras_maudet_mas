{
 "cells": [
  {
   "cell_type": "markdown",
   "id": "62f0684f-fa31-44ec-96d6-5098ce1c4696",
   "metadata": {},
   "source": [
    "# Trabajo final"
   ]
  },
  {
   "cell_type": "markdown",
   "id": "d54925c9-b7c8-41ee-8d5d-b01ccf698915",
   "metadata": {},
   "source": [
    "## Análisis de Series de Tiempo"
   ]
  },
  {
   "cell_type": "markdown",
   "id": "b61b512b-c135-4fe8-a0ba-325b420c217d",
   "metadata": {},
   "source": [
    "1. (50 % de la calificación) Código en Python comentado con el procesamiento de los datos. El código debe ser reproducible\r\n",
    "(ejecutable) e incluir las siguientes secciones:\r\n",
    "a) Limpieza y preparaó´on de los datos.\r\n",
    "b) Creói´on de modelos deán´alisis de series de tiempo. Estudiar al menos 3 tipos posibles de modelos seleccionados por\r\n",
    "el estudiante.\r\n",
    "c) Genóaci´on deóron´osticos por cada modelo, evaóaci´on y compóaci´on."
   ]
  },
  {
   "cell_type": "markdown",
   "id": "2a4211e6-f047-4309-9b0f-37f5ba5523d8",
   "metadata": {},
   "source": [
    "2. (50 % de la calificación) Informe de análisis explicando los procesos realizados y las conclusiones obtenidas de los análisis.\n",
    " El informe debe incluir:\n",
    "- a) Planteamiento de pregunta de investigación: Plantee una pregunta que se pueda responder con su trabajo con los\n",
    "        datos.\n",
    "- b) Descripci´on de los datos: Describa el origen y el tipo de dato de cada uno de los atributos de la tabla.\n",
    "- c) Descripci´on de los modelos: Indique las caracter´ısticas de los modelos construidos, incluyendo las gr´aficas de las series\n",
    "     de tiempo originales y de los datos simulados usando los modelos.\n",
    "- d) Pruebas sobre los modelos: Describa los resultados de las pruebas, evaluaciones y validaciones realizadas sobre los\n",
    "     modelos analizados.\n",
    "- e) Conclusiones: Saque conclusiones finales, tanto sobre el fenómeno estudiado como de los modelos utilizados. El objetivo\n",
    "     es responder la pregunta de investigación. También incluya lecciones aprendidas, situaciones difíciles con los datos y\n",
    "     cómo se superaron y otros comentarios que se consideren relevantes.\n"
   ]
  },
  {
   "cell_type": "markdown",
   "id": "1e05dec2-3cd7-4d1e-a159-e1a97c261f06",
   "metadata": {},
   "source": [
    "#### 1. a) Limpieza y preparacion de datos"
   ]
  },
  {
   "cell_type": "markdown",
   "id": "2c91ca3f-9ea8-42e7-8e9c-b438b1b261db",
   "metadata": {},
   "source": [
    "- Vamos a obtener los datos usando la api de yahoo finance "
   ]
  },
  {
   "cell_type": "code",
   "execution_count": 1,
   "id": "c1261aa7-4636-431b-8bbb-f1345989984e",
   "metadata": {},
   "outputs": [
    {
     "name": "stdout",
     "output_type": "stream",
     "text": [
      "Collecting yfinance\n",
      "  Downloading yfinance-0.2.62-py2.py3-none-any.whl.metadata (5.8 kB)\n",
      "Requirement already satisfied: pandas>=1.3.0 in c:\\users\\chelo\\anaconda3\\lib\\site-packages (from yfinance) (2.2.2)\n",
      "Requirement already satisfied: numpy>=1.16.5 in c:\\users\\chelo\\anaconda3\\lib\\site-packages (from yfinance) (1.26.4)\n",
      "Requirement already satisfied: requests>=2.31 in c:\\users\\chelo\\anaconda3\\lib\\site-packages (from yfinance) (2.32.2)\n",
      "Collecting multitasking>=0.0.7 (from yfinance)\n",
      "  Downloading multitasking-0.0.11-py3-none-any.whl.metadata (5.5 kB)\n",
      "Requirement already satisfied: platformdirs>=2.0.0 in c:\\users\\chelo\\anaconda3\\lib\\site-packages (from yfinance) (3.10.0)\n",
      "Requirement already satisfied: pytz>=2022.5 in c:\\users\\chelo\\anaconda3\\lib\\site-packages (from yfinance) (2024.1)\n",
      "Requirement already satisfied: frozendict>=2.3.4 in c:\\users\\chelo\\anaconda3\\lib\\site-packages (from yfinance) (2.4.2)\n",
      "Collecting peewee>=3.16.2 (from yfinance)\n",
      "  Downloading peewee-3.18.1.tar.gz (3.0 MB)\n",
      "     ---------------------------------------- 0.0/3.0 MB ? eta -:--:--\n",
      "     - -------------------------------------- 0.1/3.0 MB 2.4 MB/s eta 0:00:02\n",
      "     -------- ------------------------------- 0.6/3.0 MB 6.6 MB/s eta 0:00:01\n",
      "     -------------------------- ------------- 2.0/3.0 MB 15.8 MB/s eta 0:00:01\n",
      "     ---------------------------- ----------- 2.2/3.0 MB 11.6 MB/s eta 0:00:01\n",
      "     ------------------------------------- -- 2.8/3.0 MB 12.1 MB/s eta 0:00:01\n",
      "     ---------------------------------------- 3.0/3.0 MB 12.1 MB/s eta 0:00:00\n",
      "  Installing build dependencies: started\n",
      "  Installing build dependencies: finished with status 'done'\n",
      "  Getting requirements to build wheel: started\n",
      "  Getting requirements to build wheel: finished with status 'done'\n",
      "  Preparing metadata (pyproject.toml): started\n",
      "  Preparing metadata (pyproject.toml): finished with status 'done'\n",
      "Requirement already satisfied: beautifulsoup4>=4.11.1 in c:\\users\\chelo\\anaconda3\\lib\\site-packages (from yfinance) (4.12.3)\n",
      "Collecting curl_cffi>=0.7 (from yfinance)\n",
      "  Downloading curl_cffi-0.11.3-cp39-abi3-win_amd64.whl.metadata (15 kB)\n",
      "Requirement already satisfied: protobuf>=3.19.0 in c:\\users\\chelo\\anaconda3\\lib\\site-packages (from yfinance) (3.20.3)\n",
      "Requirement already satisfied: websockets>=13.0 in c:\\users\\chelo\\anaconda3\\lib\\site-packages (from yfinance) (15.0.1)\n",
      "Requirement already satisfied: soupsieve>1.2 in c:\\users\\chelo\\anaconda3\\lib\\site-packages (from beautifulsoup4>=4.11.1->yfinance) (2.5)\n",
      "Requirement already satisfied: cffi>=1.12.0 in c:\\users\\chelo\\anaconda3\\lib\\site-packages (from curl_cffi>=0.7->yfinance) (1.16.0)\n",
      "Requirement already satisfied: certifi>=2024.2.2 in c:\\users\\chelo\\anaconda3\\lib\\site-packages (from curl_cffi>=0.7->yfinance) (2025.4.26)\n",
      "Requirement already satisfied: python-dateutil>=2.8.2 in c:\\users\\chelo\\anaconda3\\lib\\site-packages (from pandas>=1.3.0->yfinance) (2.9.0.post0)\n",
      "Requirement already satisfied: tzdata>=2022.7 in c:\\users\\chelo\\anaconda3\\lib\\site-packages (from pandas>=1.3.0->yfinance) (2023.3)\n",
      "Requirement already satisfied: charset-normalizer<4,>=2 in c:\\users\\chelo\\anaconda3\\lib\\site-packages (from requests>=2.31->yfinance) (2.0.4)\n",
      "Requirement already satisfied: idna<4,>=2.5 in c:\\users\\chelo\\anaconda3\\lib\\site-packages (from requests>=2.31->yfinance) (3.7)\n",
      "Requirement already satisfied: urllib3<3,>=1.21.1 in c:\\users\\chelo\\anaconda3\\lib\\site-packages (from requests>=2.31->yfinance) (2.2.2)\n",
      "Requirement already satisfied: pycparser in c:\\users\\chelo\\anaconda3\\lib\\site-packages (from cffi>=1.12.0->curl_cffi>=0.7->yfinance) (2.21)\n",
      "Requirement already satisfied: six>=1.5 in c:\\users\\chelo\\anaconda3\\lib\\site-packages (from python-dateutil>=2.8.2->pandas>=1.3.0->yfinance) (1.16.0)\n",
      "Downloading yfinance-0.2.62-py2.py3-none-any.whl (118 kB)\n",
      "   ---------------------------------------- 0.0/118.4 kB ? eta -:--:--\n",
      "   ---------------------------------------- 118.4/118.4 kB ? eta 0:00:00\n",
      "Downloading curl_cffi-0.11.3-cp39-abi3-win_amd64.whl (1.4 MB)\n",
      "   ---------------------------------------- 0.0/1.4 MB ? eta -:--:--\n",
      "   --------------------------------- ------ 1.2/1.4 MB 25.6 MB/s eta 0:00:01\n",
      "   -------------------------------------- - 1.4/1.4 MB 14.6 MB/s eta 0:00:01\n",
      "   ---------------------------------------- 1.4/1.4 MB 12.9 MB/s eta 0:00:00\n",
      "Downloading multitasking-0.0.11-py3-none-any.whl (8.5 kB)\n",
      "Building wheels for collected packages: peewee\n",
      "  Building wheel for peewee (pyproject.toml): started\n",
      "  Building wheel for peewee (pyproject.toml): finished with status 'done'\n",
      "  Created wheel for peewee: filename=peewee-3.18.1-py3-none-any.whl size=139097 sha256=2417ec6b8d7130f06882d4ed469f3e792bca711eda386a4bbe0aefc9d0ab8bc1\n",
      "  Stored in directory: c:\\users\\chelo\\appdata\\local\\pip\\cache\\wheels\\1a\\57\\6a\\bb71346381d0d911cd4ce3026f1fa720da76707e4f01cf27dd\n",
      "Successfully built peewee\n",
      "Installing collected packages: peewee, multitasking, curl_cffi, yfinance\n",
      "Successfully installed curl_cffi-0.11.3 multitasking-0.0.11 peewee-3.18.1 yfinance-0.2.62\n",
      "Note: you may need to restart the kernel to use updated packages.\n"
     ]
    }
   ],
   "source": [
    "pip install yfinance"
   ]
  },
  {
   "cell_type": "code",
   "execution_count": 30,
   "id": "0d6db5dc-a0e1-4a0d-b520-faafd4232ce7",
   "metadata": {},
   "outputs": [
    {
     "name": "stderr",
     "output_type": "stream",
     "text": [
      "C:\\Users\\Chelo\\AppData\\Local\\Temp\\ipykernel_40416\\1511355237.py:4: FutureWarning: YF.download() has changed argument auto_adjust default to True\n",
      "  nrg = yf.download('YPF', start='2015-01-01', end='2025-05-31', interval='1d')\n",
      "[*********************100%***********************]  1 of 1 completed"
     ]
    },
    {
     "name": "stdout",
     "output_type": "stream",
     "text": [
      "Price           Close       High        Low       Open  Volume\n",
      "Ticker            YPF        YPF        YPF        YPF     YPF\n",
      "Date                                                          \n",
      "2015-01-02  25.267620  25.703101  25.035363  25.548263  407200\n",
      "2015-01-05  23.961178  25.025689  23.709566  24.803108  777700\n",
      "2015-01-06  23.883757  24.532141  23.419243  24.154722  610200\n",
      "2015-01-07  23.564404  24.483753  23.467629  24.135369  755600\n",
      "2015-01-08  24.145048  24.164401  23.516017  23.728921  866200\n"
     ]
    },
    {
     "name": "stderr",
     "output_type": "stream",
     "text": [
      "\n"
     ]
    }
   ],
   "source": [
    "import yfinance as yf\n",
    "\n",
    "# Descargar datos históricos de NRG Energy\n",
    "nrg = yf.download('YPF', start='2015-01-01', end='2025-05-31', interval='1d')\n",
    "\n",
    "# Guardar en CSV\n",
    "nrg.to_csv('ypf_historical.csv')\n",
    "\n",
    "print(nrg.head())"
   ]
  },
  {
   "cell_type": "code",
   "execution_count": null,
   "id": "d05ce3ef-af67-48ba-b1f5-e8bcbea71049",
   "metadata": {},
   "outputs": [],
   "source": []
  }
 ],
 "metadata": {
  "kernelspec": {
   "display_name": "Python 3 (ipykernel)",
   "language": "python",
   "name": "python3"
  },
  "language_info": {
   "codemirror_mode": {
    "name": "ipython",
    "version": 3
   },
   "file_extension": ".py",
   "mimetype": "text/x-python",
   "name": "python",
   "nbconvert_exporter": "python",
   "pygments_lexer": "ipython3",
   "version": "3.12.3"
  }
 },
 "nbformat": 4,
 "nbformat_minor": 5
}
